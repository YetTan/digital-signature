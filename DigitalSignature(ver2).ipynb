{
 "cells": [
  {
   "cell_type": "markdown",
   "metadata": {},
   "source": [
    "### Digital Signature"
   ]
  },
  {
   "cell_type": "markdown",
   "metadata": {},
   "source": [
    "#### What is Digital Signature?"
   ]
  },
  {
   "cell_type": "markdown",
   "metadata": {},
   "source": [
    "Unlike encryption schemes which mainly focus on the security communications over an insecure network, digital signature solves another type of problem: verification."
   ]
  },
  {
   "cell_type": "markdown",
   "metadata": {},
   "source": [
    "The core problem of encryption is to transfer messages with integrity, that is to ensure that the original message wasn't eavesdropped nor manipulated. While the core problem of verification is to show a signal: the message received from sender(claimed) is really from sender itself, not from a third-party who claimed to be the sender."
   ]
  },
  {
   "cell_type": "markdown",
   "metadata": {},
   "source": [
    "#### How does digital signature works?"
   ]
  },
  {
   "cell_type": "markdown",
   "metadata": {},
   "source": [
    "Digital signature scheme in which the owner of the private key ${Key}_{private}$ is able to create valid signatures, but knowledge of the public key ${Key}_{public}$ does not reveal the private key ${Key}_{private}$. "
   ]
  },
  {
   "cell_type": "markdown",
   "metadata": {},
   "source": [
    "Digital signatures are called as 'signature' because they are derived from the imitation of the real world.\n",
    "\n",
    "Let's imagine a scenario where we open an account at a bank, and the bank requires us to sign the contract in person. Since handwriting and names are generally considered to be exclusive, a document signed in this way can be considered to have been read by the signer himself, i.e., it has been verified, which proves that the document belongs to the signer."
   ]
  },
  {
   "cell_type": "markdown",
   "metadata": {},
   "source": [
    "The essence of digital signatures lies in the fact that, under a private key encryption system, the private key itself forms a one-to-one mapping with the identity information of the key holder, while the identity of the private key can be verified by encrypting and decrypting operations with its corresponding public key."
   ]
  },
  {
   "cell_type": "markdown",
   "metadata": {},
   "source": [
    "In other words, suppose we have a pair of public and private keys, $Key_{public}, Key_{private}$, and an electronic document $D$ that needs to be signed. "
   ]
  },
  {
   "cell_type": "markdown",
   "metadata": {},
   "source": [
    "First, the document can be signed with the private key to obtain the signed document:"
   ]
  },
  {
   "cell_type": "markdown",
   "metadata": {},
   "source": [
    "$D'=Signature\\_Algorithm(D, Key_private)$"
   ]
  },
  {
   "cell_type": "markdown",
   "metadata": {},
   "source": [
    "The recipient, after receiving the signed document $D'$, can then verify it using the sender's public key:"
   ]
  },
  {
   "cell_type": "markdown",
   "metadata": {},
   "source": [
    "$Output=Verification\\_Algorithm(D', Key_public)$"
   ]
  },
  {
   "cell_type": "markdown",
   "metadata": {},
   "source": [
    "where the decryption result matches the original document only if  $Key\\_public$ and $Key\\_private$ belong to the same user, i.e., the sender.\n"
   ]
  },
  {
   "cell_type": "markdown",
   "metadata": {},
   "source": [
    "#### RSA Digital Signature"
   ]
  },
  {
   "cell_type": "markdown",
   "metadata": {},
   "source": [
    "##### Principle of RSA Digital Signature"
   ]
  },
  {
   "cell_type": "markdown",
   "metadata": {},
   "source": [
    "The RSA digital signature technique is based on the RSA encryption algorithm, developed by Ron Rivest, Adi Shamir, and Leonard Adleman in 1977. The security of the RSA algorithm relies on the computational difficulty of factoring large composite numbers.\n",
    "\n",
    "In the context of digital signatures, the RSA algorithm involves three steps: key generation, signature creation, and signature verification."
   ]
  },
  {
   "cell_type": "markdown",
   "metadata": {},
   "source": [
    "*Key Generation*\n",
    "\n",
    "1. Choose two large prime numbers $p$ and $q$.\n",
    "2. Compute their product $n=p\\times q$, which will serve as the modulus for both the public and private keys.\n",
    "3. Calculate Euler's totient function $\\phi(n)=(p-1)(q-1)$.\n",
    "4. Choose an integer $e$ that is less than $\\phi(n)$ and coprime to $\\phi(n)$ to be part of the public key. 65537 would be choose in common practice.\n",
    "5. Compute the modular inverse of $e$ under $\\phi(n)$, denoted as $d$, which will be part of the private key. That is, $de=1(\\mod \\phi(n))$\n",
    "\n",
    "The public key consists of $(e,n)$, and the private key is $(d,n)$."
   ]
  },
  {
   "cell_type": "markdown",
   "metadata": {},
   "source": [
    "*Signature Creation*\n",
    "\n",
    "The signature creation process involves encrypting the message $m$ using the private key $d$:\n",
    "\n",
    "$signature = m^{d}\\mod n$\n"
   ]
  },
  {
   "cell_type": "markdown",
   "metadata": {},
   "source": [
    "*Signature Verification*\n",
    "\n",
    "To verify the signature, use the public key $e$ and modulus $n$ to decrypt the signature:\n",
    "\n",
    "$m={signature}^{e}\\mod n$\n",
    "\n",
    "If the decrypted message matches the original message, the signature is considered valid."
   ]
  },
  {
   "cell_type": "markdown",
   "metadata": {},
   "source": [
    "#### Elgamal Digital Signature"
   ]
  },
  {
   "cell_type": "markdown",
   "metadata": {},
   "source": [
    "Elgamal digital signature is another asymmetric encryption-based signature scheme, proposed by Taher Elgamal in 1985. Unlike RSA, the Elgamal signature algorithm relies on the difficulty of the discrete logarithm problem."
   ]
  },
  {
   "cell_type": "markdown",
   "metadata": {},
   "source": [
    "*Key Generation*\n",
    "\n",
    "1. Choose a large prime $p$ and a primitive root $g$.\n",
    "2. Randomly select a private key $a$, where $a<p$.\n",
    "3. Compute $g^a\\mod p$, denoted as $A$.\n",
    "\n",
    "The public key is $A$, and the private key is $a$."
   ]
  },
  {
   "cell_type": "markdown",
   "metadata": {},
   "source": [
    "*Signature Creation*\n",
    "\n",
    "1. For each message $m$, choose a random number $k$, such that $k$ and $p−1$ are coprime.\n",
    "2. Calculate $r=g^k\\mod p$\n",
    "3. Compute $s=(m-ar)k^{-1}\\mod (p-1)$\n",
    "\n",
    "The signature is $(r,s)$."
   ]
  },
  {
   "cell_type": "markdown",
   "metadata": {},
   "source": [
    "*Signature Verification*\n",
    "\n",
    "1. Compute $v_1=g^m\\mod p$.\n",
    "2. Compute $v_2=A^r\\times r^s\\mod p$.\n",
    "\n",
    "If $v_1==v_2$, then the signature is valid."
   ]
  },
  {
   "cell_type": "markdown",
   "metadata": {},
   "source": [
    "In particular, the use of elliptic curve groups leads to the Elliptic Curve Digital Signature Algorithm (ECDSA).\n",
    "\n",
    "The advantage of using ECDSA lies in the fact that, the discrete logarithm problem for elliptic curves appears to be SIGNIFICANTLY HARDER than the discrete logarithm problem."
   ]
  },
  {
   "cell_type": "markdown",
   "metadata": {},
   "source": [
    "#### RSA Digital Signature Implementation"
   ]
  },
  {
   "cell_type": "markdown",
   "metadata": {},
   "source": [
    "Here we show the process of RSA digital signature step by step.\n",
    "\n",
    "1. generate_prime_candidate() will generate an odd integer randomly, which will be used in generating large prime $p, q$\n",
    "2. generate_large_prime() will call generate_prime_candidate() with a given length, here we take default 1024.\n",
    "3. generate_rsa_keys() will calculate $n, \\phi(n)$, using default e=65537 and calculate $d$, returning 2-pair tuple (public_key, private_key).\n",
    "4. rsa_sign() will use private key to sign message.\n",
    "5. rsa_verify() will use public key to verify a signature, and check whether it is valid by comparing with message."
   ]
  },
  {
   "cell_type": "code",
   "execution_count": 1,
   "metadata": {},
   "outputs": [],
   "source": [
    "import random\n",
    "from sympy import isprime, mod_inverse\n",
    "\n",
    "def generate_prime_candidate(length):\n",
    "    \"\"\" Generate an odd integer randomly \"\"\"\n",
    "    p = random.getrandbits(length)\n",
    "    p |= (1 << length - 1) | 1\n",
    "    return p\n",
    "\n",
    "def generate_large_prime(length=1024):\n",
    "    \"\"\" Generate a prime number of specified length \"\"\"\n",
    "    p = 4\n",
    "    while not isprime(p):\n",
    "        p = generate_prime_candidate(length)\n",
    "    return p\n",
    "\n",
    "def generate_rsa_keys(keysize=1024):\n",
    "    \"\"\" Generate RSA public and private keys \"\"\"\n",
    "    p = generate_large_prime(keysize // 2)\n",
    "    q = generate_large_prime(keysize // 2)\n",
    "    n = p * q\n",
    "    phi = (p - 1) * (q - 1)\n",
    "    \n",
    "    e = 65537  # Common choice for e\n",
    "    while mod_inverse(e, phi) is None:\n",
    "        e = random.randrange(1, phi)\n",
    "    \n",
    "    d = mod_inverse(e, phi)\n",
    "    return ((e, n), (d, n))  # (public_key, private_key)\n",
    "\n",
    "def rsa_sign(message, private_key):\n",
    "    \"\"\" Create an RSA signature \"\"\"\n",
    "    d, n = private_key\n",
    "    # Encrypting with private key\n",
    "    message_int = int.from_bytes(message.encode('utf-8'), 'big')\n",
    "    signature = pow(message_int, d, n)\n",
    "    return signature\n",
    "\n",
    "def rsa_verify(message, signature, public_key):\n",
    "    \"\"\" Verify an RSA signature \"\"\"\n",
    "    e, n = public_key\n",
    "    # Decrypting with public key\n",
    "    message_int = int.from_bytes(message.encode('utf-8'), 'big')\n",
    "    check_int = pow(signature, e, n)\n",
    "    return message_int == check_int"
   ]
  },
  {
   "cell_type": "markdown",
   "metadata": {},
   "source": [
    "We'll write usage example here, you can try to modify params' value to see if this works for differenct params."
   ]
  },
  {
   "cell_type": "code",
   "execution_count": 2,
   "metadata": {},
   "outputs": [],
   "source": [
    "public_key, private_key = generate_rsa_keys(1024)"
   ]
  },
  {
   "cell_type": "code",
   "execution_count": 3,
   "metadata": {},
   "outputs": [],
   "source": [
    "message = \"Hello, RSA!\""
   ]
  },
  {
   "cell_type": "code",
   "execution_count": 4,
   "metadata": {},
   "outputs": [
    {
     "name": "stdout",
     "output_type": "stream",
     "text": [
      "Signature: 19153648078298258310109365053158275292780177151960550221162068716317935735478208910475181092423638828363171186814278518579320391247565992303364823584769841847310507314337283711871129199728121322018065788622187872464422880588829712593767946433220248578092216490875233429780162498284783124935415826816966409712\n"
     ]
    }
   ],
   "source": [
    "signature = rsa_sign(message, private_key)\n",
    "print(\"Signature:\", signature)"
   ]
  },
  {
   "cell_type": "code",
   "execution_count": 5,
   "metadata": {},
   "outputs": [
    {
     "name": "stdout",
     "output_type": "stream",
     "text": [
      "Is the signature valid? True\n"
     ]
    }
   ],
   "source": [
    "is_valid = rsa_verify(message, signature, public_key)\n",
    "print(\"Is the signature valid?\", is_valid)"
   ]
  },
  {
   "cell_type": "markdown",
   "metadata": {},
   "source": [
    "We also privide you an interactive widget. Run this cell down here to see your widget."
   ]
  },
  {
   "cell_type": "code",
   "execution_count": 6,
   "metadata": {},
   "outputs": [
    {
     "data": {
      "application/vnd.jupyter.widget-view+json": {
       "model_id": "0572ea2ed8644c758124dcb7e7b94777",
       "version_major": 2,
       "version_minor": 0
      },
      "text/plain": [
       "Textarea(value='Hello, RSA!', continuous_update=False, description='Message:')"
      ]
     },
     "metadata": {},
     "output_type": "display_data"
    },
    {
     "data": {
      "application/vnd.jupyter.widget-view+json": {
       "model_id": "73d7a52f4504455695b3fda5736b3c0b",
       "version_major": 2,
       "version_minor": 0
      },
      "text/plain": [
       "IntSlider(value=1024, continuous_update=False, description='Key Length:', max=4096, min=512, step=512)"
      ]
     },
     "metadata": {},
     "output_type": "display_data"
    },
    {
     "data": {
      "application/vnd.jupyter.widget-view+json": {
       "model_id": "7e18d5259f2346d49728d859a268b987",
       "version_major": 2,
       "version_minor": 0
      },
      "text/plain": [
       "Button(description='Sign', style=ButtonStyle())"
      ]
     },
     "metadata": {},
     "output_type": "display_data"
    },
    {
     "data": {
      "application/vnd.jupyter.widget-view+json": {
       "model_id": "13422dc384534265ac526c6b028de247",
       "version_major": 2,
       "version_minor": 0
      },
      "text/plain": [
       "Button(description='Verify', style=ButtonStyle())"
      ]
     },
     "metadata": {},
     "output_type": "display_data"
    },
    {
     "data": {
      "application/vnd.jupyter.widget-view+json": {
       "model_id": "81361c5ace404f828c27920db0ac7df2",
       "version_major": 2,
       "version_minor": 0
      },
      "text/plain": [
       "Output()"
      ]
     },
     "metadata": {},
     "output_type": "display_data"
    }
   ],
   "source": [
    "import ipywidgets as widgets\n",
    "from IPython.display import display, clear_output\n",
    "\n",
    "message_input = widgets.Textarea(\n",
    "    value='Hello, RSA!',\n",
    "    description='Message:',\n",
    "    continuous_update=False\n",
    ")\n",
    "\n",
    "key_length_slider = widgets.IntSlider(\n",
    "    value=1024,\n",
    "    min=512,\n",
    "    max=4096,\n",
    "    step=512,\n",
    "    description='Key Length:',\n",
    "    continuous_update=False\n",
    ")\n",
    "\n",
    "output = widgets.Output()\n",
    "\n",
    "sign_button = widgets.Button(description=\"Sign\")\n",
    "verify_button = widgets.Button(description=\"Verify\")\n",
    "\n",
    "# Generate RSA keys\n",
    "public_key, private_key = None, None\n",
    "signature = None\n",
    "\n",
    "def generate_rsa_keys_on_demand(change):\n",
    "    global public_key, private_key\n",
    "    key_size = change.new\n",
    "    public_key, private_key = generate_rsa_keys(key_size)\n",
    "    with output:\n",
    "        clear_output()\n",
    "        print(f\"Generated new RSA keys with size: {key_size} bits\")\n",
    "\n",
    "key_length_slider.observe(generate_rsa_keys_on_demand, names='value')\n",
    "\n",
    "def on_sign_button_clicked(b):\n",
    "    global signature\n",
    "    with output:\n",
    "        clear_output()\n",
    "        if public_key is None or private_key is None:\n",
    "            print(\"Please generate the keys first.\")\n",
    "            return\n",
    "        message = message_input.value\n",
    "        signature = rsa_sign(message, private_key)\n",
    "        print(f\"Signature: {signature}\")\n",
    "\n",
    "def on_verify_button_clicked(b):\n",
    "    with output:\n",
    "        clear_output()\n",
    "        if public_key is None:\n",
    "            print(\"Please generate the keys first.\")\n",
    "            return\n",
    "        if signature is None:\n",
    "            print(\"No signature generated yet. Please sign the message first.\")\n",
    "            return\n",
    "        message = message_input.value\n",
    "        is_valid = rsa_verify(message, signature, public_key)\n",
    "        print(f\"Is the signature valid? {is_valid}\")\n",
    "\n",
    "sign_button.on_click(on_sign_button_clicked)\n",
    "verify_button.on_click(on_verify_button_clicked)\n",
    "\n",
    "display(message_input, key_length_slider, sign_button, verify_button, output)\n"
   ]
  },
  {
   "cell_type": "markdown",
   "metadata": {},
   "source": [
    "#### Elgamal Digital Signature Implementation"
   ]
  },
  {
   "cell_type": "markdown",
   "metadata": {},
   "source": [
    "Here we show the process of Elgamal digital signature step by step.\n",
    "Note that the generate_prime_candidate() and generate_large_prime() are used again to produce $p$.\n",
    "\n",
    "1. generate_elgamal_keys() will calculate every param inside the key pair: $p,g,a,A$, and return 2-pair tuple (public_key, private_key).\n",
    "2. elgamal_sign() will use private key and p, gto sign message.\n",
    "3. elgamal_verify() will use public key to verify a signature, and check whether it is valid by comparing with message."
   ]
  },
  {
   "cell_type": "code",
   "execution_count": 7,
   "metadata": {},
   "outputs": [],
   "source": [
    "import random\n",
    "from sympy import isprime, mod_inverse\n",
    "from math import gcd\n",
    "\n",
    "def generate_prime_candidate(length):\n",
    "    \"\"\" Generate an odd integer randomly \"\"\"\n",
    "    p = random.getrandbits(length)\n",
    "    p |= (1 << length - 1) | 1\n",
    "    return p\n",
    "\n",
    "def generate_large_prime(length=1024):\n",
    "    \"\"\" Generate a prime number of specified length \"\"\"\n",
    "    p = 4\n",
    "    while not isprime(p):\n",
    "        p = generate_prime_candidate(length)\n",
    "    return p\n",
    "\n",
    "def generate_elgamal_keys(keysize=256):\n",
    "    \"\"\" Generate Elgamal public and private keys \"\"\"\n",
    "    p = generate_large_prime(keysize)\n",
    "    g = random.randint(2, p - 2)\n",
    "    a = random.randint(1, p - 2)\n",
    "    A = pow(g, a, p)\n",
    "    return ((p, g, A), a)  # (public_key, private_key)\n",
    "\n",
    "def elgamal_sign(message, private_key, p, g):\n",
    "    \"\"\" Create an Elgamal signature \"\"\"\n",
    "    a = private_key\n",
    "    k = random.randrange(1, p - 1)\n",
    "    while gcd(k, p - 1) != 1:\n",
    "        k = random.randrange(1, p - 1)\n",
    "    \n",
    "    r = pow(g, k, p)\n",
    "    k_inv = mod_inverse(k, p - 1)\n",
    "    message_int = int.from_bytes(message.encode('utf-8'), 'big')\n",
    "    s = (k_inv * (message_int - a * r)) % (p - 1)\n",
    "    return (r, s)\n",
    "\n",
    "def elgamal_verify(message, signature, public_key):\n",
    "    \"\"\" Verify an Elgamal signature \"\"\"\n",
    "    p, g, A = public_key\n",
    "    r, s = signature\n",
    "    message_int = int.from_bytes(message.encode('utf-8'), 'big')\n",
    "    v1 = pow(g, message_int, p)\n",
    "    v2 = (pow(A, r, p) * pow(r, s, p)) % p\n",
    "    return v1 == v2"
   ]
  },
  {
   "cell_type": "markdown",
   "metadata": {},
   "source": [
    "Again, we'll write usage example here, you can try to modify params' value to see if this works for differenct params."
   ]
  },
  {
   "cell_type": "code",
   "execution_count": 8,
   "metadata": {},
   "outputs": [],
   "source": [
    "public_key, private_key = generate_elgamal_keys(256)"
   ]
  },
  {
   "cell_type": "code",
   "execution_count": 9,
   "metadata": {},
   "outputs": [],
   "source": [
    "message = \"Hello, Elgamal!\""
   ]
  },
  {
   "cell_type": "code",
   "execution_count": 10,
   "metadata": {},
   "outputs": [
    {
     "name": "stdout",
     "output_type": "stream",
     "text": [
      "Signature: (67905536613399860576194549307068770144090721684496110017123651007610087275475, 15759443602806103022819007355413112588900091794560292304673866547072662271530)\n"
     ]
    }
   ],
   "source": [
    "signature = elgamal_sign(message, private_key, *public_key[:2])\n",
    "print(\"Signature:\", signature)"
   ]
  },
  {
   "cell_type": "code",
   "execution_count": 11,
   "metadata": {},
   "outputs": [
    {
     "name": "stdout",
     "output_type": "stream",
     "text": [
      "Is the signature valid? True\n"
     ]
    }
   ],
   "source": [
    "is_valid = elgamal_verify(message, signature, public_key)\n",
    "print(\"Is the signature valid?\", is_valid)"
   ]
  },
  {
   "cell_type": "markdown",
   "metadata": {},
   "source": [
    "Again, we provide an interactive widget."
   ]
  },
  {
   "cell_type": "code",
   "execution_count": 12,
   "metadata": {},
   "outputs": [
    {
     "data": {
      "application/vnd.jupyter.widget-view+json": {
       "model_id": "b86a589606334acca559ab328ec86790",
       "version_major": 2,
       "version_minor": 0
      },
      "text/plain": [
       "Textarea(value='Hello, Elgamal!', continuous_update=False, description='Message:')"
      ]
     },
     "metadata": {},
     "output_type": "display_data"
    },
    {
     "data": {
      "application/vnd.jupyter.widget-view+json": {
       "model_id": "7ba41b422d7745c5be9980025b3d6e11",
       "version_major": 2,
       "version_minor": 0
      },
      "text/plain": [
       "IntSlider(value=256, continuous_update=False, description='Key Length:', max=1024, min=128, step=64)"
      ]
     },
     "metadata": {},
     "output_type": "display_data"
    },
    {
     "data": {
      "application/vnd.jupyter.widget-view+json": {
       "model_id": "27c8fdbd228c42189a08c23eb2a9d707",
       "version_major": 2,
       "version_minor": 0
      },
      "text/plain": [
       "Button(description='Sign', style=ButtonStyle())"
      ]
     },
     "metadata": {},
     "output_type": "display_data"
    },
    {
     "data": {
      "application/vnd.jupyter.widget-view+json": {
       "model_id": "4bd7552be3ae4ca8bf5108f79e0e6e00",
       "version_major": 2,
       "version_minor": 0
      },
      "text/plain": [
       "Button(description='Verify', style=ButtonStyle())"
      ]
     },
     "metadata": {},
     "output_type": "display_data"
    },
    {
     "data": {
      "application/vnd.jupyter.widget-view+json": {
       "model_id": "0418d5d95ea5462c93463210ae5c361f",
       "version_major": 2,
       "version_minor": 0
      },
      "text/plain": [
       "Output()"
      ]
     },
     "metadata": {},
     "output_type": "display_data"
    }
   ],
   "source": [
    "import ipywidgets as widgets\n",
    "from IPython.display import display, clear_output\n",
    "\n",
    "message_input = widgets.Textarea(\n",
    "    value='Hello, Elgamal!',\n",
    "    description='Message:',\n",
    "    continuous_update=False\n",
    ")\n",
    "\n",
    "key_length_slider = widgets.IntSlider(\n",
    "    value=256,\n",
    "    min=128,\n",
    "    max=1024,\n",
    "    step=64,\n",
    "    description='Key Length:',\n",
    "    continuous_update=False\n",
    ")\n",
    "\n",
    "output = widgets.Output()\n",
    "\n",
    "sign_button = widgets.Button(description=\"Sign\")\n",
    "verify_button = widgets.Button(description=\"Verify\")\n",
    "\n",
    "# Generate Elgamal keys\n",
    "public_key, private_key = None, None\n",
    "signature = None \n",
    "\n",
    "def generate_keys(change):\n",
    "    global public_key, private_key\n",
    "    key_size = change.new\n",
    "    public_key, private_key = generate_elgamal_keys(key_size)\n",
    "    with output:\n",
    "        clear_output()\n",
    "        print(f\"Generated new Elgamal keys with size: {key_size} bits\")\n",
    "\n",
    "key_length_slider.observe(generate_keys, names='value')\n",
    "\n",
    "def on_sign_button_clicked(b):\n",
    "    global signature\n",
    "    with output:\n",
    "        clear_output()\n",
    "        if public_key is None or private_key is None:\n",
    "            print(\"Please generate the keys first.\")\n",
    "            return\n",
    "        message = message_input.value\n",
    "        signature = elgamal_sign(message, private_key, *public_key[:2])\n",
    "        print(f\"Signature: {signature}\")\n",
    "\n",
    "def on_verify_button_clicked(b):\n",
    "    with output:\n",
    "        clear_output()\n",
    "        if public_key is None:\n",
    "            print(\"Please generate the keys first.\")\n",
    "            return\n",
    "        if signature is None:\n",
    "            print(\"No signature generated yet. Please sign the message first.\")\n",
    "            return\n",
    "        message = message_input.value\n",
    "        is_valid = elgamal_verify(message, signature, public_key)\n",
    "        print(f\"Is the signature valid? {is_valid}\")\n",
    "\n",
    "sign_button.on_click(on_sign_button_clicked)\n",
    "verify_button.on_click(on_verify_button_clicked)\n",
    "\n",
    "display(message_input, key_length_slider, sign_button, verify_button, output)\n"
   ]
  }
 ],
 "metadata": {
  "kernelspec": {
   "display_name": "Python 3",
   "language": "python",
   "name": "python3"
  },
  "language_info": {
   "codemirror_mode": {
    "name": "ipython",
    "version": 3
   },
   "file_extension": ".py",
   "mimetype": "text/x-python",
   "name": "python",
   "nbconvert_exporter": "python",
   "pygments_lexer": "ipython3",
   "version": "3.9.18"
  }
 },
 "nbformat": 4,
 "nbformat_minor": 2
}
